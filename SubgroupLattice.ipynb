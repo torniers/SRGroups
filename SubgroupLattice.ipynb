{
 "cells": [
  {
   "cell_type": "code",
   "execution_count": null,
   "id": "fa224326",
   "metadata": {},
   "outputs": [],
   "source": [
    "LoadPackage(\"JupyterViz\");;\n",
    "PlotDisplayMethod := PlotDisplayMethod_JupyterSimple;"
   ]
  },
  {
   "cell_type": "code",
   "execution_count": null,
   "id": "7a2a4536",
   "metadata": {},
   "outputs": [],
   "source": [
    "RunApp@SRGroups(2);"
   ]
  },
  {
   "cell_type": "code",
   "execution_count": null,
   "id": "9516bef1",
   "metadata": {},
   "outputs": [],
   "source": [
    "RunApp@SRGroups(3);"
   ]
  },
  {
   "cell_type": "code",
   "execution_count": null,
   "id": "44a309ca",
   "metadata": {},
   "outputs": [],
   "source": [
    "RunApp@SRGroups(5);"
   ]
  },
  {
   "cell_type": "code",
   "execution_count": null,
   "id": "6ee5404d",
   "metadata": {},
   "outputs": [],
   "source": [
    "RunApp@SRGroups(6);"
   ]
  },
  {
   "cell_type": "code",
   "execution_count": null,
   "id": "c27a4e20",
   "metadata": {},
   "outputs": [],
   "source": [
    "RunApp@SRGroups(7);"
   ]
  },
  {
   "cell_type": "code",
   "execution_count": null,
   "id": "9ff44b51",
   "metadata": {},
   "outputs": [],
   "source": [
    "PlotOrderDistribution@SRGroups(2,5);"
   ]
  },
  {
   "cell_type": "code",
   "execution_count": null,
   "id": "723a39d0",
   "metadata": {},
   "outputs": [],
   "source": []
  }
 ],
 "metadata": {
  "kernelspec": {
   "display_name": "GAP 4",
   "language": "gap",
   "name": "gap-4"
  },
  "language_info": {
   "codemirror_mode": "gap",
   "file_extension": ".g",
   "mimetype": "text/x-gap",
   "name": "GAP 4",
   "nbconvert_exporter": "",
   "pygments_lexer": "gap",
   "version": "4.12.2"
  }
 },
 "nbformat": 4,
 "nbformat_minor": 5
}
