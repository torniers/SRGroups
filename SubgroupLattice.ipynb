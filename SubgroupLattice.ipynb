{
 "cells": [
  {
   "cell_type": "code",
   "execution_count": 6,
   "id": "7a2a4536",
   "metadata": {},
   "outputs": [
    {
     "data": {
      "text/html": [
       "<script src=\"https://cdn.jsdelivr.net/npm/@hpcc-js/wasm/dist/graphviz.umd.js\"></script>\n",
       "<script src=\"https://cdn.jsdelivr.net/npm/svg-pan-zoom-container@0.6.1\"></script>\n",
       "<div id='MjYyNgAA'></div>\n",
       "<script type=\"module\">\n",
       "    import { Graphviz } from \"https://cdn.jsdelivr.net/npm/@hpcc-js/wasm/dist/index.js\";\n",
       "    if (Graphviz) {\n",
       "        const graphviz = await Graphviz.load();\n",
       "        \n",
       "        function register_callbacks(){\n",
       "            document.querySelectorAll('.MjYyNgAA >[id*=\"node\"]').forEach(\n",
       "                (x) => {\n",
       "                    x.addEventListener(\"click\", function(){\n",
       "                        const name = x.firstElementChild.textContent.split(\"\\\\n\")[0];\n",
       "                        IPython.notebook.kernel.execute(`AppCallback@SRGroups(\"${name}\", \"MjYyNgAA\");`, callbacks);\n",
       "                    });\n",
       "                }\n",
       "            );\n",
       "        }\n",
       "        \n",
       "        var callbacks = {\n",
       "            iopub: {\n",
       "                output: (data) => {\n",
       "                    if(\"text\" in data.content) {\n",
       "                        console.log(data.content.text);\n",
       "                    } else {\n",
       "                        document.getElementById(\"MjYyNgAA\").innerHTML = \"\";\n",
       "                        data.content.data.forEach((dot)=>{\n",
       "                            document.getElementById(\"MjYyNgAA\").innerHTML += \"<div \" + \n",
       "                                \"data-pan-on-drag='button: right;' \" + \n",
       "                                \"data-zoom-on-wheel='max-scale: 10; min-scale: 1;' \"+\n",
       "                                \"style='border-style:solid; height: 500px;' >\" + \n",
       "                                graphviz.layout(dot, \"svg\", \"dot\") + \"</div>\";\n",
       "                            document.getElementById(\"MjYyNgAA\").innerHTML += \"<br>\";\n",
       "                        });\n",
       "                        register_callbacks();\n",
       "                    }\n",
       "                }\n",
       "            }\n",
       "        };\n",
       "        \n",
       "        IPython.notebook.kernel.execute(`AppCallback@SRGroups(\"\", \"MjYyNgAA\");`, callbacks);\n",
       "    }\n",
       "</script>"
      ]
     },
     "execution_count": 6,
     "metadata": {},
     "output_type": "execute_result"
    }
   ],
   "source": [
    "RunApp@SRGroups(2);"
   ]
  },
  {
   "cell_type": "code",
   "execution_count": 17,
   "id": "b978b3e8",
   "metadata": {},
   "outputs": [
    {
     "data": {
      "text/html": [
       "<script src=\"https://cdn.jsdelivr.net/npm/@hpcc-js/wasm/dist/graphviz.umd.js\"></script>\n",
       "<script src=\"https://cdn.jsdelivr.net/npm/svg-pan-zoom-container@0.6.1\"></script>\n",
       "<div id='MzIwNAAA'></div>\n",
       "<script type=\"module\">\n",
       "    import { Graphviz } from \"https://cdn.jsdelivr.net/npm/@hpcc-js/wasm/dist/index.js\";\n",
       "    if (Graphviz) {\n",
       "        const graphviz = await Graphviz.load();\n",
       "        \n",
       "        function register_callbacks(){\n",
       "            document.querySelectorAll('.MzIwNAAA >[id*=\"node\"]').forEach(\n",
       "                (x) => {\n",
       "                    x.addEventListener(\"click\", function(){\n",
       "                        const name = x.firstElementChild.textContent.split(\"\\\\n\")[0];\n",
       "                        IPython.notebook.kernel.execute(`AppCallback@SRGroups(\"${name}\", \"MzIwNAAA\");`, callbacks);\n",
       "                    });\n",
       "                }\n",
       "            );\n",
       "        }\n",
       "        \n",
       "        var callbacks = {\n",
       "            iopub: {\n",
       "                output: (data) => {\n",
       "                    if(\"text\" in data.content) {\n",
       "                        console.log(data.content.text);\n",
       "                    } else {\n",
       "                        document.getElementById(\"MzIwNAAA\").innerHTML = \"\";\n",
       "                        data.content.data.forEach((dot)=>{\n",
       "                            document.getElementById(\"MzIwNAAA\").innerHTML += \"<div \" + \n",
       "                                \"data-pan-on-drag='button: right;' \" + \n",
       "                                \"data-zoom-on-wheel='max-scale: 10; min-scale: 1;' \"+\n",
       "                                \"style='border-style:solid; height: 500px;' >\" + \n",
       "                                graphviz.layout(dot, \"svg\", \"dot\") + \"</div>\";\n",
       "                            document.getElementById(\"MzIwNAAA\").innerHTML += \"<br>\";\n",
       "                        });\n",
       "                        register_callbacks();\n",
       "                    }\n",
       "                }\n",
       "            }\n",
       "        };\n",
       "        \n",
       "        IPython.notebook.kernel.execute(`AppCallback@SRGroups(\"\", \"MzIwNAAA\");`, callbacks);\n",
       "    }\n",
       "</script>"
      ]
     },
     "execution_count": 17,
     "metadata": {},
     "output_type": "execute_result"
    }
   ],
   "source": [
    "RunApp@SRGroups(3);"
   ]
  },
  {
   "cell_type": "code",
   "execution_count": 16,
   "id": "44a309ca",
   "metadata": {},
   "outputs": [
    {
     "data": {
      "text/html": [
       "<script src=\"https://cdn.jsdelivr.net/npm/@hpcc-js/wasm/dist/graphviz.umd.js\"></script>\n",
       "<script src=\"https://cdn.jsdelivr.net/npm/svg-pan-zoom-container@0.6.1\"></script>\n",
       "<div id='ODczOAAA'></div>\n",
       "<script type=\"module\">\n",
       "    import { Graphviz } from \"https://cdn.jsdelivr.net/npm/@hpcc-js/wasm/dist/index.js\";\n",
       "    if (Graphviz) {\n",
       "        const graphviz = await Graphviz.load();\n",
       "        \n",
       "        function register_callbacks(){\n",
       "            document.querySelectorAll('.ODczOAAA >[id*=\"node\"]').forEach(\n",
       "                (x) => {\n",
       "                    x.addEventListener(\"click\", function(){\n",
       "                        const name = x.firstElementChild.textContent.split(\"\\\\n\")[0];\n",
       "                        IPython.notebook.kernel.execute(`AppCallback@SRGroups(\"${name}\", \"ODczOAAA\");`, callbacks);\n",
       "                    });\n",
       "                }\n",
       "            );\n",
       "        }\n",
       "        \n",
       "        var callbacks = {\n",
       "            iopub: {\n",
       "                output: (data) => {\n",
       "                    if(\"text\" in data.content) {\n",
       "                        console.log(data.content.text);\n",
       "                    } else {\n",
       "                        document.getElementById(\"ODczOAAA\").innerHTML = \"\";\n",
       "                        data.content.data.forEach((dot)=>{\n",
       "                            document.getElementById(\"ODczOAAA\").innerHTML += \"<div \" + \n",
       "                                \"data-pan-on-drag='button: right;' \" + \n",
       "                                \"data-zoom-on-wheel='max-scale: 10; min-scale: 1;' \"+\n",
       "                                \"style='border-style:solid; height: 500px;' >\" + \n",
       "                                graphviz.layout(dot, \"svg\", \"dot\") + \"</div>\";\n",
       "                            document.getElementById(\"ODczOAAA\").innerHTML += \"<br>\";\n",
       "                        });\n",
       "                        register_callbacks();\n",
       "                    }\n",
       "                }\n",
       "            }\n",
       "        };\n",
       "        \n",
       "        IPython.notebook.kernel.execute(`AppCallback@SRGroups(\"\", \"ODczOAAA\");`, callbacks);\n",
       "    }\n",
       "</script>"
      ]
     },
     "execution_count": 16,
     "metadata": {},
     "output_type": "execute_result"
    }
   ],
   "source": [
    "RunApp@SRGroups(5);"
   ]
  },
  {
   "cell_type": "code",
   "execution_count": 20,
   "id": "6ee5404d",
   "metadata": {},
   "outputs": [
    {
     "data": {
      "text/html": [
       "<script src=\"https://cdn.jsdelivr.net/npm/@hpcc-js/wasm/dist/graphviz.umd.js\"></script>\n",
       "<script src=\"https://cdn.jsdelivr.net/npm/svg-pan-zoom-container@0.6.1\"></script>\n",
       "<div id='NDMwNAAA'></div>\n",
       "<script type=\"module\">\n",
       "    import { Graphviz } from \"https://cdn.jsdelivr.net/npm/@hpcc-js/wasm/dist/index.js\";\n",
       "    if (Graphviz) {\n",
       "        const graphviz = await Graphviz.load();\n",
       "        \n",
       "        function register_callbacks(){\n",
       "            document.querySelectorAll('.NDMwNAAA >[id*=\"node\"]').forEach(\n",
       "                (x) => {\n",
       "                    x.addEventListener(\"click\", function(){\n",
       "                        const name = x.firstElementChild.textContent.split(\"\\\\n\")[0];\n",
       "                        IPython.notebook.kernel.execute(`AppCallback@SRGroups(\"${name}\", \"NDMwNAAA\");`, callbacks);\n",
       "                    });\n",
       "                }\n",
       "            );\n",
       "        }\n",
       "        \n",
       "        var callbacks = {\n",
       "            iopub: {\n",
       "                output: (data) => {\n",
       "                    if(\"text\" in data.content) {\n",
       "                        console.log(data.content.text);\n",
       "                    } else {\n",
       "                        document.getElementById(\"NDMwNAAA\").innerHTML = \"\";\n",
       "                        data.content.data.forEach((dot)=>{\n",
       "                            document.getElementById(\"NDMwNAAA\").innerHTML += \"<div \" + \n",
       "                                \"data-pan-on-drag='button: right;' \" + \n",
       "                                \"data-zoom-on-wheel='max-scale: 10; min-scale: 1;' \"+\n",
       "                                \"style='border-style:solid; height: 500px;' >\" + \n",
       "                                graphviz.layout(dot, \"svg\", \"dot\") + \"</div>\";\n",
       "                            document.getElementById(\"NDMwNAAA\").innerHTML += \"<br>\";\n",
       "                        });\n",
       "                        register_callbacks();\n",
       "                    }\n",
       "                }\n",
       "            }\n",
       "        };\n",
       "        \n",
       "        IPython.notebook.kernel.execute(`AppCallback@SRGroups(\"\", \"NDMwNAAA\");`, callbacks);\n",
       "    }\n",
       "</script>"
      ]
     },
     "execution_count": 20,
     "metadata": {},
     "output_type": "execute_result"
    }
   ],
   "source": [
    "RunApp@SRGroups(6);"
   ]
  },
  {
   "cell_type": "code",
   "execution_count": 21,
   "id": "c27a4e20",
   "metadata": {},
   "outputs": [
    {
     "data": {
      "text/html": [
       "<script src=\"https://cdn.jsdelivr.net/npm/@hpcc-js/wasm/dist/graphviz.umd.js\"></script>\n",
       "<script src=\"https://cdn.jsdelivr.net/npm/svg-pan-zoom-container@0.6.1\"></script>\n",
       "<div id='NDU0NQAA'></div>\n",
       "<script type=\"module\">\n",
       "    import { Graphviz } from \"https://cdn.jsdelivr.net/npm/@hpcc-js/wasm/dist/index.js\";\n",
       "    if (Graphviz) {\n",
       "        const graphviz = await Graphviz.load();\n",
       "        \n",
       "        function register_callbacks(){\n",
       "            document.querySelectorAll('.NDU0NQAA >[id*=\"node\"]').forEach(\n",
       "                (x) => {\n",
       "                    x.addEventListener(\"click\", function(){\n",
       "                        const name = x.firstElementChild.textContent.split(\"\\\\n\")[0];\n",
       "                        IPython.notebook.kernel.execute(`AppCallback@SRGroups(\"${name}\", \"NDU0NQAA\");`, callbacks);\n",
       "                    });\n",
       "                }\n",
       "            );\n",
       "        }\n",
       "        \n",
       "        var callbacks = {\n",
       "            iopub: {\n",
       "                output: (data) => {\n",
       "                    if(\"text\" in data.content) {\n",
       "                        console.log(data.content.text);\n",
       "                    } else {\n",
       "                        document.getElementById(\"NDU0NQAA\").innerHTML = \"\";\n",
       "                        data.content.data.forEach((dot)=>{\n",
       "                            document.getElementById(\"NDU0NQAA\").innerHTML += \"<div \" + \n",
       "                                \"data-pan-on-drag='button: right;' \" + \n",
       "                                \"data-zoom-on-wheel='max-scale: 10; min-scale: 1;' \"+\n",
       "                                \"style='border-style:solid; height: 500px;' >\" + \n",
       "                                graphviz.layout(dot, \"svg\", \"dot\") + \"</div>\";\n",
       "                            document.getElementById(\"NDU0NQAA\").innerHTML += \"<br>\";\n",
       "                        });\n",
       "                        register_callbacks();\n",
       "                    }\n",
       "                }\n",
       "            }\n",
       "        };\n",
       "        \n",
       "        IPython.notebook.kernel.execute(`AppCallback@SRGroups(\"\", \"NDU0NQAA\");`, callbacks);\n",
       "    }\n",
       "</script>"
      ]
     },
     "execution_count": 21,
     "metadata": {},
     "output_type": "execute_result"
    }
   ],
   "source": [
    "RunApp@SRGroups(7);"
   ]
  },
  {
   "cell_type": "code",
   "execution_count": null,
   "id": "9ff44b51",
   "metadata": {},
   "outputs": [],
   "source": []
  }
 ],
 "metadata": {
  "kernelspec": {
   "display_name": "GAP 4",
   "language": "gap",
   "name": "gap-4"
  },
  "language_info": {
   "codemirror_mode": "gap",
   "file_extension": ".g",
   "mimetype": "text/x-gap",
   "name": "GAP 4",
   "nbconvert_exporter": "",
   "pygments_lexer": "gap",
   "version": "4.12.1"
  }
 },
 "nbformat": 4,
 "nbformat_minor": 5
}
