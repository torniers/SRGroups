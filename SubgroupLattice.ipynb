{
 "cells": [
  {
   "cell_type": "code",
   "execution_count": 1,
   "id": "7a2a4536",
   "metadata": {},
   "outputs": [
    {
     "data": {
      "text/html": [
       "<div id='Z3JhcGg1MDUy'></div>\n",
       "<script src=\"https://cdn.jsdelivr.net/npm/@hpcc-js/wasm/dist/graphviz.umd.js\"></script>\n",
       "<script src=\"https://cdn.jsdelivr.net/npm/svg-pan-zoom-container@0.6.1\"></script>\n",
       "<script type=\"module\">\n",
       "    const dot = `digraph {\n",
       "class=Z3JhcGg1MDUy;{rank = same;2[shape=none];\n",
       "\"SRGroup(2,1,1) = S2\"[style=\"\" color=\"1.0 1.0 0.0\" fillcolor=\"1.0 0.0 1.0\" shape=box];\n",
       "}\n",
       "}\n",
       "`;\n",
       "    import { Graphviz } from \"https://cdn.jsdelivr.net/npm/@hpcc-js/wasm/dist/index.js\";\n",
       "    if (Graphviz) {\n",
       "        const graphviz = await Graphviz.load();\n",
       "        const svg = graphviz.layout(dot, \"svg\", \"dot\");\n",
       "        document.getElementById(\"Z3JhcGg1MDUy\").innerHTML = \"<div data-pan-on-drag='modifier: Shift;' data-zoom-on-wheel='max-scale: 10; min-scale: 1;' style='border-style:solid; height: 500px;' >\" + svg + \"</div>\";\n",
       "        function register_callbacks(){\n",
       "            document.querySelectorAll('.Z3JhcGg1MDUy >[id*=\"node\"]').forEach(\n",
       "                (x) => {\n",
       "                    x.addEventListener(\"click\", function(){\n",
       "                        const name = x.firstElementChild.textContent.split(\" \")[0];\n",
       "                        IPython.notebook.kernel.execute(`SRGroupsAppCallback(\"${name}\", \"Z3JhcGg1MDUy\");`, callbacks);\n",
       "                    });\n",
       "                }\n",
       "            );\n",
       "        }\n",
       "        var callbacks = {\n",
       "            iopub: {\n",
       "                output: (data) => {\n",
       "                    console.log(data.content);\n",
       "                    document.getElementById(\"Z3JhcGg1MDUy\").innerHTML = \"\";\n",
       "                    data.content.data.forEach((dot)=>{\n",
       "                        document.getElementById(\"Z3JhcGg1MDUy\").innerHTML += \"<div data-pan-on-drag='modifier: Shift;' data-zoom-on-wheel='max-scale: 10; min-scale: 1;' style='border-style:solid; height: 500px;' >\" + \n",
       "                            graphviz.layout(dot, \"svg\", \"dot\") + \"</div>\";\n",
       "                        document.getElementById(\"Z3JhcGg1MDUy\").innerHTML += \"<br>\";\n",
       "                    });\n",
       "                    register_callbacks();\n",
       "                }\n",
       "            }\n",
       "        };\n",
       "        register_callbacks();\n",
       "    }\n",
       "</script>"
      ]
     },
     "execution_count": 1,
     "metadata": {},
     "output_type": "execute_result"
    }
   ],
   "source": [
    "SRGroupsRunApp(2);"
   ]
  },
  {
   "cell_type": "code",
   "execution_count": null,
   "id": "2cd97d9b",
   "metadata": {},
   "outputs": [],
   "source": []
  }
 ],
 "metadata": {
  "kernelspec": {
   "display_name": "GAP 4",
   "language": "gap",
   "name": "gap-4"
  },
  "language_info": {
   "codemirror_mode": "gap",
   "file_extension": ".g",
   "mimetype": "text/x-gap",
   "name": "GAP 4",
   "nbconvert_exporter": "",
   "pygments_lexer": "gap",
   "version": "4.12.1"
  }
 },
 "nbformat": 4,
 "nbformat_minor": 5
}
