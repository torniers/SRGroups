{
 "cells": [
  {
   "cell_type": "code",
   "execution_count": 1,
   "id": "7a2a4536",
   "metadata": {},
   "outputs": [
    {
     "data": {
      "text/html": [
       "<div id='Z3JhcGg1MDUy'></div>\n",
       "<script src=\"https://cdn.jsdelivr.net/npm/@hpcc-js/wasm/dist/graphviz.umd.js\"></script>\n",
       "<script type=\"module\">\n",
       "    const dot = `digraph {\n",
       "{rank = same;2[shape=none];\n",
       "\"SRGroup(2,1,1) = S2\"[shape=box];\n",
       "}\n",
       "}\n",
       "`;\n",
       "    import { Graphviz } from \"https://cdn.jsdelivr.net/npm/@hpcc-js/wasm/dist/index.js\";\n",
       "    if (Graphviz) {\n",
       "        const graphviz = await Graphviz.load();\n",
       "        const svg = graphviz.layout(dot, \"svg\", \"dot\");\n",
       "        document.getElementById(\"Z3JhcGg1MDUy\").innerHTML = svg;\n",
       "        var callbacks = {\n",
       "            iopub: {\n",
       "                output: (data) => {\n",
       "                    console.log(data.content);\n",
       "                    document.getElementById(\"Z3JhcGg1MDUy\").innerHTML = graphviz.layout(data.content.data[\"text/plain\"], \"svg\", \"dot\");\n",
       "                    document.querySelectorAll('[id*=\"node\"]').forEach(\n",
       "                        (x) => {\n",
       "                            x.addEventListener(\"click\", function(){\n",
       "                                const name = x.firstElementChild.textContent.split(\" \")[0];\n",
       "                                console.log(name);\n",
       "                                IPython.notebook.kernel.execute(`SRGroupsAppCallback(\"${name}\");`, callbacks);\n",
       "                            });\n",
       "                        }\n",
       "                    );\n",
       "                }\n",
       "            }\n",
       "        };\n",
       "        document.querySelectorAll('[id*=\"node\"]').forEach(\n",
       "            (x) => {\n",
       "                x.addEventListener(\"click\", function(){\n",
       "                    const name = x.firstElementChild.textContent.split(\" \")[0];\n",
       "                    console.log(name);\n",
       "                    IPython.notebook.kernel.execute(`SRGroupsAppCallback(\"${name}\");`, callbacks);\n",
       "                });\n",
       "            }\n",
       "        );\n",
       "    }\n",
       "</script>"
      ]
     },
     "execution_count": 1,
     "metadata": {},
     "output_type": "execute_result"
    }
   ],
   "source": [
    "SRGroupsRunApp(2);"
   ]
  },
  {
   "cell_type": "code",
   "execution_count": null,
   "id": "deb7f3c1",
   "metadata": {},
   "outputs": [],
   "source": []
  }
 ],
 "metadata": {
  "kernelspec": {
   "display_name": "GAP 4",
   "language": "gap",
   "name": "gap-4"
  },
  "language_info": {
   "codemirror_mode": "gap",
   "file_extension": ".g",
   "mimetype": "text/x-gap",
   "name": "GAP 4",
   "nbconvert_exporter": "",
   "pygments_lexer": "gap",
   "version": "4.12.1"
  }
 },
 "nbformat": 4,
 "nbformat_minor": 5
}
