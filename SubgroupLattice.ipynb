{
 "cells": [
  {
   "cell_type": "code",
   "execution_count": 33,
   "id": "7a2a4536",
   "metadata": {},
   "outputs": [
    {
     "data": {
      "text/html": [
       "<div id='Z3JhcGgzMDQw'></div>\n",
       "<script src=\"https://cdn.jsdelivr.net/npm/@hpcc-js/wasm/dist/graphviz.umd.js\"></script>\n",
       "<script src=\"https://cdn.jsdelivr.net/npm/svg-pan-zoom-container@0.6.1\"></script>\n",
       "<script type=\"module\">\n",
       "    const dot = `digraph {\n",
       "class=Z3JhcGgzMDQw;{rank = same;2[shape=none];\n",
       "\"SRGroup(2,1,1) = S2\"[style=\"\" color=\"1.0 1.0 0.0\" fillcolor=\"1.0 0.0 1.0\" shape=box];\n",
       "}\n",
       "}\n",
       "`;\n",
       "    import { Graphviz } from \"https://cdn.jsdelivr.net/npm/@hpcc-js/wasm/dist/index.js\";\n",
       "    if (Graphviz) {\n",
       "        const graphviz = await Graphviz.load();\n",
       "        document.getElementById(\"Z3JhcGgzMDQw\").innerHTML = \"<div             data-pan-on-drag='modifier: Shift;'             data-zoom-on-wheel='max-scale: 10; min-scale: 1;'             style='border-style:solid; height: 500px;' >\"            + graphviz.layout(dot, \"svg\", \"dot\") + \"</div>\";\n",
       "        \n",
       "        function register_callbacks(){\n",
       "            document.querySelectorAll('.Z3JhcGgzMDQw >[id*=\"node\"]').forEach(\n",
       "                (x) => {\n",
       "                    x.addEventListener(\"click\", function(){\n",
       "                        const name = x.firstElementChild.textContent.split(\" \")[0];\n",
       "                        IPython.notebook.kernel.execute(`SRGroupsAppCallback(\"${name}\", \"Z3JhcGgzMDQw\");`, callbacks);\n",
       "                    });\n",
       "                }\n",
       "            );\n",
       "        }\n",
       "        \n",
       "        var callbacks = {\n",
       "            iopub: {\n",
       "                output: (data) => {\n",
       "                    console.log(data.content);\n",
       "                    document.getElementById(\"Z3JhcGgzMDQw\").innerHTML = \"\";\n",
       "                    data.content.data.forEach((dot)=>{\n",
       "                        document.getElementById(\"Z3JhcGgzMDQw\").innerHTML += \"<div                             data-pan-on-drag='modifier: Shift;'                             data-zoom-on-wheel='max-scale: 10; min-scale: 1;'                             style='border-style:solid; height: 500px;' >\" + \n",
       "                            graphviz.layout(dot, \"svg\", \"dot\") + \"</div>\";\n",
       "                        document.getElementById(\"Z3JhcGgzMDQw\").innerHTML += \"<br>\";\n",
       "                    });\n",
       "                    register_callbacks();\n",
       "                }\n",
       "            }\n",
       "        };\n",
       "        register_callbacks();\n",
       "    }\n",
       "</script>"
      ]
     },
     "execution_count": 33,
     "metadata": {},
     "output_type": "execute_result"
    }
   ],
   "source": [
    "SRGroupsRunApp(2);"
   ]
  },
  {
   "cell_type": "code",
   "execution_count": 34,
   "id": "b978b3e8",
   "metadata": {},
   "outputs": [
    {
     "data": {
      "text/html": [
       "<div id='Z3JhcGg5Mzky'></div>\n",
       "<script src=\"https://cdn.jsdelivr.net/npm/@hpcc-js/wasm/dist/graphviz.umd.js\"></script>\n",
       "<script src=\"https://cdn.jsdelivr.net/npm/svg-pan-zoom-container@0.6.1\"></script>\n",
       "<script type=\"module\">\n",
       "    const dot = `digraph {\n",
       "class=Z3JhcGg5Mzky;{rank = same;3[shape=none];\n",
       "\"SRGroup(3,1,1)\"[style=\"\" color=\"1.0 1.0 0.0\" fillcolor=\"1.0 0.0 1.0\" shape=box];\n",
       "}\n",
       "{rank = same;6[shape=none];\n",
       "\"SRGroup(3,1,2)\"[style=\"\" color=\"1.0 1.0 0.0\" fillcolor=\"1.0 0.0 1.0\" shape=oval];\n",
       "}\n",
       "6 -> 3[style=invis];\n",
       "\"SRGroup(3,1,2)\" -> \"SRGroup(3,1,1)\";\n",
       "}\n",
       "`;\n",
       "    import { Graphviz } from \"https://cdn.jsdelivr.net/npm/@hpcc-js/wasm/dist/index.js\";\n",
       "    if (Graphviz) {\n",
       "        const graphviz = await Graphviz.load();\n",
       "        document.getElementById(\"Z3JhcGg5Mzky\").innerHTML = \"<div             data-pan-on-drag='modifier: Shift;'             data-zoom-on-wheel='max-scale: 10; min-scale: 1;'             style='border-style:solid; height: 500px;' >\"            + graphviz.layout(dot, \"svg\", \"dot\") + \"</div>\";\n",
       "        \n",
       "        function register_callbacks(){\n",
       "            document.querySelectorAll('.Z3JhcGg5Mzky >[id*=\"node\"]').forEach(\n",
       "                (x) => {\n",
       "                    x.addEventListener(\"click\", function(){\n",
       "                        const name = x.firstElementChild.textContent.split(\" \")[0];\n",
       "                        IPython.notebook.kernel.execute(`SRGroupsAppCallback(\"${name}\", \"Z3JhcGg5Mzky\");`, callbacks);\n",
       "                    });\n",
       "                }\n",
       "            );\n",
       "        }\n",
       "        \n",
       "        var callbacks = {\n",
       "            iopub: {\n",
       "                output: (data) => {\n",
       "                    console.log(data.content);\n",
       "                    document.getElementById(\"Z3JhcGg5Mzky\").innerHTML = \"\";\n",
       "                    data.content.data.forEach((dot)=>{\n",
       "                        document.getElementById(\"Z3JhcGg5Mzky\").innerHTML += \"<div                             data-pan-on-drag='modifier: Shift;'                             data-zoom-on-wheel='max-scale: 10; min-scale: 1;'                             style='border-style:solid; height: 500px;' >\" + \n",
       "                            graphviz.layout(dot, \"svg\", \"dot\") + \"</div>\";\n",
       "                        document.getElementById(\"Z3JhcGg5Mzky\").innerHTML += \"<br>\";\n",
       "                    });\n",
       "                    register_callbacks();\n",
       "                }\n",
       "            }\n",
       "        };\n",
       "        register_callbacks();\n",
       "    }\n",
       "</script>"
      ]
     },
     "execution_count": 34,
     "metadata": {},
     "output_type": "execute_result"
    }
   ],
   "source": [
    "SRGroupsRunApp(3);"
   ]
  },
  {
   "cell_type": "code",
   "execution_count": 35,
   "id": "44a309ca",
   "metadata": {},
   "outputs": [
    {
     "data": {
      "text/html": [
       "<div id='Z3JhcGg3Mjg3'></div>\n",
       "<script src=\"https://cdn.jsdelivr.net/npm/@hpcc-js/wasm/dist/graphviz.umd.js\"></script>\n",
       "<script src=\"https://cdn.jsdelivr.net/npm/svg-pan-zoom-container@0.6.1\"></script>\n",
       "<script type=\"module\">\n",
       "    const dot = `digraph {\n",
       "class=Z3JhcGg3Mjg3;{rank = same;4[shape=none];\n",
       "\"SRGroup(4,1,1) = C(4) = 4\"[style=\"\" color=\"1.0 1.0 0.0\" fillcolor=\"1.0 0.0 1.0\" shape=box];\n",
       "\"SRGroup(4,1,2) = E(4) = 2[x]2\"[style=\"\" color=\"1.0 1.0 0.0\" fillcolor=\"1.0 0.0 1.0\" shape=oval];\n",
       "}\n",
       "{rank = same;8[shape=none];\n",
       "\"SRGroup(4,1,3) = D(4)\"[style=\"\" color=\"1.0 1.0 0.0\" fillcolor=\"1.0 0.0 1.0\" shape=oval];\n",
       "}\n",
       "{rank = same;12[shape=none];\n",
       "\"SRGroup(4,1,4) = A4\"[style=\"\" color=\"1.0 1.0 0.0\" fillcolor=\"1.0 0.0 1.0\" shape=oval];\n",
       "}\n",
       "{rank = same;24[shape=none];\n",
       "\"SRGroup(4,1,5) = S4\"[style=\"\" color=\"1.0 1.0 0.0\" fillcolor=\"1.0 0.0 1.0\" shape=oval];\n",
       "}\n",
       "8 -> 4[style=invis];\n",
       "12 -> 8[style=invis];\n",
       "24 -> 12[style=invis];\n",
       "\"SRGroup(4,1,3) = D(4)\" -> \"SRGroup(4,1,1) = C(4) = 4\";\n",
       "\"SRGroup(4,1,3) = D(4)\" -> \"SRGroup(4,1,2) = E(4) = 2[x]2\";\n",
       "\"SRGroup(4,1,4) = A4\" -> \"SRGroup(4,1,2) = E(4) = 2[x]2\";\n",
       "\"SRGroup(4,1,5) = S4\" -> \"SRGroup(4,1,3) = D(4)\";\n",
       "\"SRGroup(4,1,5) = S4\" -> \"SRGroup(4,1,4) = A4\";\n",
       "}\n",
       "`;\n",
       "    import { Graphviz } from \"https://cdn.jsdelivr.net/npm/@hpcc-js/wasm/dist/index.js\";\n",
       "    if (Graphviz) {\n",
       "        const graphviz = await Graphviz.load();\n",
       "        document.getElementById(\"Z3JhcGg3Mjg3\").innerHTML = \"<div             data-pan-on-drag='modifier: Shift;'             data-zoom-on-wheel='max-scale: 10; min-scale: 1;'             style='border-style:solid; height: 500px;' >\"            + graphviz.layout(dot, \"svg\", \"dot\") + \"</div>\";\n",
       "        \n",
       "        function register_callbacks(){\n",
       "            document.querySelectorAll('.Z3JhcGg3Mjg3 >[id*=\"node\"]').forEach(\n",
       "                (x) => {\n",
       "                    x.addEventListener(\"click\", function(){\n",
       "                        const name = x.firstElementChild.textContent.split(\" \")[0];\n",
       "                        IPython.notebook.kernel.execute(`SRGroupsAppCallback(\"${name}\", \"Z3JhcGg3Mjg3\");`, callbacks);\n",
       "                    });\n",
       "                }\n",
       "            );\n",
       "        }\n",
       "        \n",
       "        var callbacks = {\n",
       "            iopub: {\n",
       "                output: (data) => {\n",
       "                    console.log(data.content);\n",
       "                    document.getElementById(\"Z3JhcGg3Mjg3\").innerHTML = \"\";\n",
       "                    data.content.data.forEach((dot)=>{\n",
       "                        document.getElementById(\"Z3JhcGg3Mjg3\").innerHTML += \"<div                             data-pan-on-drag='modifier: Shift;'                             data-zoom-on-wheel='max-scale: 10; min-scale: 1;'                             style='border-style:solid; height: 500px;' >\" + \n",
       "                            graphviz.layout(dot, \"svg\", \"dot\") + \"</div>\";\n",
       "                        document.getElementById(\"Z3JhcGg3Mjg3\").innerHTML += \"<br>\";\n",
       "                    });\n",
       "                    register_callbacks();\n",
       "                }\n",
       "            }\n",
       "        };\n",
       "        register_callbacks();\n",
       "    }\n",
       "</script>"
      ]
     },
     "execution_count": 35,
     "metadata": {},
     "output_type": "execute_result"
    }
   ],
   "source": [
    "SRGroupsRunApp(4);"
   ]
  },
  {
   "cell_type": "code",
   "execution_count": null,
   "id": "e6dacc23",
   "metadata": {},
   "outputs": [],
   "source": []
  }
 ],
 "metadata": {
  "kernelspec": {
   "display_name": "GAP 4",
   "language": "gap",
   "name": "gap-4"
  },
  "language_info": {
   "codemirror_mode": "gap",
   "file_extension": ".g",
   "mimetype": "text/x-gap",
   "name": "GAP 4",
   "nbconvert_exporter": "",
   "pygments_lexer": "gap",
   "version": "4.12.1"
  }
 },
 "nbformat": 4,
 "nbformat_minor": 5
}
