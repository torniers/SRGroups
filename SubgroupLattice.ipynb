{
 "cells": [
  {
   "cell_type": "code",
   "execution_count": null,
   "id": "7a2a4536",
   "metadata": {},
   "outputs": [],
   "source": [
    "RunApp@SRGroups(2);"
   ]
  },
  {
   "cell_type": "markdown",
   "id": "c64c30ab",
   "metadata": {},
   "source": [
    "## RunApp@SRGroups(3);"
   ]
  },
  {
   "cell_type": "code",
   "execution_count": null,
   "id": "44a309ca",
   "metadata": {},
   "outputs": [],
   "source": [
    "RunApp@SRGroups(5);"
   ]
  },
  {
   "cell_type": "code",
   "execution_count": null,
   "id": "6ee5404d",
   "metadata": {},
   "outputs": [],
   "source": [
    "RunApp@SRGroups(6);"
   ]
  },
  {
   "cell_type": "code",
   "execution_count": null,
   "id": "c27a4e20",
   "metadata": {},
   "outputs": [],
   "source": [
    "RunApp@SRGroups(7);"
   ]
  },
  {
   "cell_type": "code",
   "execution_count": null,
   "id": "9ff44b51",
   "metadata": {},
   "outputs": [],
   "source": []
  }
 ],
 "metadata": {
  "kernelspec": {
   "display_name": "GAP 4",
   "language": "gap",
   "name": "gap-4"
  },
  "language_info": {
   "codemirror_mode": "gap",
   "file_extension": ".g",
   "mimetype": "text/x-gap",
   "name": "GAP 4",
   "nbconvert_exporter": "",
   "pygments_lexer": "gap",
   "version": "4.12.2"
  }
 },
 "nbformat": 4,
 "nbformat_minor": 5
}
