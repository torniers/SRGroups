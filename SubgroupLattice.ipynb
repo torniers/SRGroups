{
 "cells": [
  {
   "cell_type": "code",
   "execution_count": 1,
   "id": "7a2a4536",
   "metadata": {},
   "outputs": [
    {
     "data": {
      "text/html": [
       "<script src=\"gap/graphviz.umd.js\"></script>\n",
       "<script src=\"gap/svg-pan-zoom-container.js\"></script>\n",
       "<div id='Z3JhcGg5MzQ1'></div>\n",
       "<script type=\"module\">\n",
       "    import { Graphviz } from \"https://cdn.jsdelivr.net/npm/@hpcc-js/wasm/dist/index.js\";\n",
       "    if (Graphviz) {\n",
       "        const graphviz = await Graphviz.load();\n",
       "        \n",
       "        function register_callbacks(){\n",
       "            document.querySelectorAll('.Z3JhcGg5MzQ1 >[id*=\"node\"]').forEach(\n",
       "                (x) => {\n",
       "                    x.addEventListener(\"click\", function(){\n",
       "                        const name = x.firstElementChild.textContent.split(\"\\\\n\")[0];\n",
       "                        IPython.notebook.kernel.execute(`AppCallback@SRGroups(\"${name}\", \"Z3JhcGg5MzQ1\");`, callbacks);\n",
       "                    });\n",
       "                }\n",
       "            );\n",
       "        }\n",
       "        \n",
       "        var callbacks = {\n",
       "            iopub: {\n",
       "                output: (data) => {\n",
       "                    console.log(data.content);\n",
       "                    document.getElementById(\"Z3JhcGg5MzQ1\").innerHTML = \"\";\n",
       "                    data.content.data.forEach((dot)=>{\n",
       "                        document.getElementById(\"Z3JhcGg5MzQ1\").innerHTML += \"<div \" + \n",
       "                            \"data-pan-on-drag='button: right;' \" + \n",
       "                            \"data-zoom-on-wheel='max-scale: 10; min-scale: 1;' \"+\n",
       "                            \"style='border-style:solid; height: 500px;' >\" + \n",
       "                            graphviz.layout(dot, \"svg\", \"dot\") + \"</div>\";\n",
       "                        document.getElementById(\"Z3JhcGg5MzQ1\").innerHTML += \"<br>\";\n",
       "                    });\n",
       "                    register_callbacks();\n",
       "                }\n",
       "            }\n",
       "        };\n",
       "        \n",
       "        IPython.notebook.kernel.execute(`AppCallback@SRGroups(\"\", \"Z3JhcGg5MzQ1\");`, callbacks);\n",
       "    }\n",
       "</script>"
      ]
     },
     "execution_count": 1,
     "metadata": {},
     "output_type": "execute_result"
    }
   ],
   "source": [
    "RunApp@SRGroups(2);"
   ]
  },
  {
   "cell_type": "code",
   "execution_count": null,
   "id": "b978b3e8",
   "metadata": {},
   "outputs": [],
   "source": [
    "RunApp@SRGroups(3);"
   ]
  },
  {
   "cell_type": "code",
   "execution_count": null,
   "id": "44a309ca",
   "metadata": {},
   "outputs": [],
   "source": [
    "RunApp@SRGroups(5);"
   ]
  },
  {
   "cell_type": "code",
   "execution_count": null,
   "id": "6ee5404d",
   "metadata": {},
   "outputs": [],
   "source": [
    "RunApp@SRGroups(6);"
   ]
  },
  {
   "cell_type": "code",
   "execution_count": null,
   "id": "c27a4e20",
   "metadata": {},
   "outputs": [],
   "source": [
    "RunApp@SRGroups(7);"
   ]
  },
  {
   "cell_type": "code",
   "execution_count": null,
   "id": "5a365dc1",
   "metadata": {},
   "outputs": [],
   "source": []
  }
 ],
 "metadata": {
  "kernelspec": {
   "display_name": "GAP 4",
   "language": "gap",
   "name": "gap-4"
  },
  "language_info": {
   "codemirror_mode": "gap",
   "file_extension": ".g",
   "mimetype": "text/x-gap",
   "name": "GAP 4",
   "nbconvert_exporter": "",
   "pygments_lexer": "gap",
   "version": "4.12.1"
  }
 },
 "nbformat": 4,
 "nbformat_minor": 5
}
