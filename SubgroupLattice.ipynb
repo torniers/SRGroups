{
 "cells": [
  {
   "cell_type": "code",
   "execution_count": null,
   "id": "7a2a4536",
   "metadata": {},
   "outputs": [],
   "source": [
    "RunApp@SRGroups(2);"
   ]
  },
  {
   "cell_type": "code",
   "execution_count": null,
   "id": "b978b3e8",
   "metadata": {},
   "outputs": [],
   "source": [
    "RunApp@SRGroups(3);"
   ]
  },
  {
   "cell_type": "code",
   "execution_count": null,
   "id": "44a309ca",
   "metadata": {},
   "outputs": [],
   "source": [
    "RunApp@SRGroups(4);"
   ]
  }
 ],
 "metadata": {
  "kernelspec": {
   "display_name": "GAP 4",
   "language": "gap",
   "name": "gap-4"
  },
  "language_info": {
   "codemirror_mode": "gap",
   "file_extension": ".g",
   "mimetype": "text/x-gap",
   "name": "GAP 4",
   "nbconvert_exporter": "",
   "pygments_lexer": "gap",
   "version": "4.12.1"
  }
 },
 "nbformat": 4,
 "nbformat_minor": 5
}
