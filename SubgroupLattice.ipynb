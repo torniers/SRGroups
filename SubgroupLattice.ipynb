{
 "cells": [
  {
   "cell_type": "code",
   "execution_count": 1,
   "id": "3399d641",
   "metadata": {},
   "outputs": [],
   "source": [
    "cool := function(x)\n",
    "    return Objectify( JupyterRenderableType, rec(  source := \"gap\", data := rec( (\"text/plain\") := DotSubgroupLattice(2,2) ), metadata:=rec() ));\n",
    "end;;"
   ]
  },
  {
   "cell_type": "code",
   "execution_count": 2,
   "id": "7a2a4536",
   "metadata": {},
   "outputs": [
    {
     "data": {
      "text/html": [
       "<div id='Z3JhcGg5NzEA='></div>\n",
       "<script src=\"https://cdn.jsdelivr.net/npm/@hpcc-js/wasm/dist/graphviz.umd.js\"></script>\n",
       "<script type=\"module\">\n",
       "    const dot = `digraph {\n",
       "{rank = same;8[shape=none];\n",
       "\"SRGroup(2,3,1)\"[color=\"0.33333333333333331 1.0 1.0\" shape=box];\n",
       "\"SRGroup(2,3,3)\"[color=\"0.66666666666666663 1.0 1.0\" shape=oval];\n",
       "\"SRGroup(2,3,4)\"[color=\"0.66666666666666663 1.0 1.0\" shape=oval];\n",
       "\"SRGroup(2,3,5)\"[color=\"0.66666666666666663 1.0 1.0\" shape=oval];\n",
       "}\n",
       "{rank = same;16[shape=none];\n",
       "\"SRGroup(2,3,2)\"[color=\"0.33333333333333331 1.0 1.0\" shape=oval];\n",
       "\"SRGroup(2,3,6)\"[color=\"0.66666666666666663 1.0 1.0\" shape=oval];\n",
       "\"SRGroup(2,3,9)\"[color=\"1. 1.0 1.0\" shape=oval];\n",
       "\"SRGroup(2,3,10)\"[color=\"1. 1.0 1.0\" shape=oval];\n",
       "}\n",
       "{rank = same;32[shape=none];\n",
       "\"SRGroup(2,3,11)\"[color=\"1. 1.0 1.0\" shape=oval];\n",
       "\"SRGroup(2,3,13)\"[color=\"1. 1.0 1.0\" shape=oval];\n",
       "}\n",
       "{rank = same;64[shape=none];\n",
       "\"SRGroup(2,3,7)\"[color=\"1. 1.0 1.0\" shape=oval];\n",
       "\"SRGroup(2,3,8)\"[color=\"1. 1.0 1.0\" shape=oval];\n",
       "\"SRGroup(2,3,12)\"[color=\"1. 1.0 1.0\" shape=oval];\n",
       "\"SRGroup(2,3,14)\"[color=\"1. 1.0 1.0\" shape=oval];\n",
       "}\n",
       "{rank = same;128[shape=none];\n",
       "\"SRGroup(2,3,15)\"[color=\"1. 1.0 1.0\" shape=oval];\n",
       "}\n",
       "16 -> 8[style=invis];\n",
       "32 -> 16[style=invis];\n",
       "64 -> 32[style=invis];\n",
       "128 -> 64[style=invis];\n",
       "\"SRGroup(2,3,2)\" -> \"SRGroup(2,3,1)\";\n",
       "\"SRGroup(2,3,6)\" -> \"SRGroup(2,3,3)\";\n",
       "\"SRGroup(2,3,6)\" -> \"SRGroup(2,3,4)\";\n",
       "\"SRGroup(2,3,6)\" -> \"SRGroup(2,3,5)\";\n",
       "\"SRGroup(2,3,7)\" -> \"SRGroup(2,3,2)\";\n",
       "\"SRGroup(2,3,11)\" -> \"SRGroup(2,3,9)\";\n",
       "\"SRGroup(2,3,11)\" -> \"SRGroup(2,3,10)\";\n",
       "\"SRGroup(2,3,12)\" -> \"SRGroup(2,3,2)\";\n",
       "\"SRGroup(2,3,12)\" -> \"SRGroup(2,3,6)\";\n",
       "\"SRGroup(2,3,12)\" -> \"SRGroup(2,3,11)\";\n",
       "\"SRGroup(2,3,13)\" -> \"SRGroup(2,3,6)\";\n",
       "\"SRGroup(2,3,14)\" -> \"SRGroup(2,3,13)\";\n",
       "\"SRGroup(2,3,15)\" -> \"SRGroup(2,3,7)\";\n",
       "\"SRGroup(2,3,15)\" -> \"SRGroup(2,3,12)\";\n",
       "\"SRGroup(2,3,15)\" -> \"SRGroup(2,3,14)\";\n",
       "\"SRGroup(2,3,15)\" -> \"SRGroup(2,3,8)\";\n",
       "}\n",
       "`;\n",
       "    import { Graphviz } from \"https://cdn.jsdelivr.net/npm/@hpcc-js/wasm/dist/index.js\";\n",
       "    if (Graphviz) {\n",
       "        const graphviz = await Graphviz.load();\n",
       "        const svg = graphviz.layout(dot, \"svg\", \"dot\");\n",
       "        document.getElementById(\"Z3JhcGg5NzEA=\").innerHTML = svg;\n",
       "        var callbacks = {\n",
       "            iopub: {\n",
       "                output: (data) => {\n",
       "                    document.getElementById(\"Z3JhcGg5NzEA=\").innerHTML = graphviz.layout(data.content.data[\"text/plain\"], \"svg\", \"dot\");\n",
       "                    document.querySelectorAll('[id*=\"node\"]').forEach(\n",
       "                        (x) => {\n",
       "                            x.addEventListener(\"click\", function(){\n",
       "                                IPython.notebook.kernel.execute(`cool(${x.firstElementChild.textContent});`, callbacks);\n",
       "                            });\n",
       "                        }\n",
       "                    );\n",
       "                }\n",
       "            }\n",
       "        };\n",
       "        document.querySelectorAll('[id*=\"node\"]').forEach(\n",
       "            (x) => {\n",
       "                x.addEventListener(\"click\", function(){\n",
       "                    IPython.notebook.kernel.execute(`cool(${x.firstElementChild.textContent});`, callbacks);\n",
       "                });\n",
       "            }\n",
       "        );\n",
       "    }\n",
       "</script>"
      ]
     },
     "execution_count": 2,
     "metadata": {},
     "output_type": "execute_result"
    }
   ],
   "source": [
    "JupyterDot(DotSubgroupLattice(2,3), \"cool\");"
   ]
  },
  {
   "cell_type": "code",
   "execution_count": null,
   "id": "deb7f3c1",
   "metadata": {},
   "outputs": [],
   "source": []
  }
 ],
 "metadata": {
  "kernelspec": {
   "display_name": "GAP 4",
   "language": "gap",
   "name": "gap-4"
  },
  "language_info": {
   "codemirror_mode": "gap",
   "file_extension": ".g",
   "mimetype": "text/x-gap",
   "name": "GAP 4",
   "nbconvert_exporter": "",
   "pygments_lexer": "gap",
   "version": "4.12.1"
  }
 },
 "nbformat": 4,
 "nbformat_minor": 5
}
