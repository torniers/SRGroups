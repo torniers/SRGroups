{
 "cells": [
  {
   "cell_type": "code",
   "execution_count": 2,
   "id": "3399d641",
   "metadata": {},
   "outputs": [
    {
     "data": {
      "text/plain": [
       "\"digraph {\\n{rank = same;8[shape=none];\\n\\\"SRGroup(2,3,1)\\\"[color=\\\"0.33333333\\333333331 1.0 1.0\\\" shape=box];\\n\\\"SRGroup(2,3,3)\\\"[color=\\\"0.6666666666666666\\3 1.0 1.0\\\" shape=oval];\\n\\\"SRGroup(2,3,4)\\\"[color=\\\"0.66666666666666663 1.0 1\\.0\\\" shape=oval];\\n\\\"SRGroup(2,3,5)\\\"[color=\\\"0.66666666666666663 1.0 1.0\\\" sh\\ape=oval];\\n}\\n{rank = same;16[shape=none];\\n\\\"SRGroup(2,3,2)\\\"[color=\\\"0.3333\\3333333333331 1.0 1.0\\\" shape=oval];\\n\\\"SRGroup(2,3,6)\\\"[color=\\\"0.66666666666\\666663 1.0 1.0\\\" shape=oval];\\n\\\"SRGroup(2,3,9)\\\"[color=\\\"1. 1.0 1.0\\\" shape=o\\val];\\n\\\"SRGroup(2,3,10)\\\"[color=\\\"1. 1.0 1.0\\\" shape=oval];\\n}\\n{rank = same;\\32[shape=none];\\n\\\"SRGroup(2,3,11)\\\"[color=\\\"1. 1.0 1.0\\\" shape=oval];\\n\\\"SRGr\\oup(2,3,13)\\\"[color=\\\"1. 1.0 1.0\\\" shape=oval];\\n}\\n{rank = same;64[shape=none\\];\\n\\\"SRGroup(2,3,7)\\\"[color=\\\"1. 1.0 1.0\\\" shape=oval];\\n\\\"SRGroup(2,3,8)\\\"[c\\olor=\\\"1. 1.0 1.0\\\" shape=oval];\\n\\\"SRGroup(2,3,12)\\\"[color=\\\"1. 1.0 1.0\\\" sha\\pe=oval];\\n\\\"SRGroup(2,3,14)\\\"[color=\\\"1. 1.0 1.0\\\" shape=oval];\\n}\\n{rank = s\\ame;128[shape=none];\\n\\\"SRGroup(2,3,15)\\\"[color=\\\"1. 1.0 1.0\\\" shape=oval];\\n}\\\\n16 -> 8[style=invis];\\n32 -> 16[style=invis];\\n64 -> 32[style=invis];\\n128 -\\> 64[style=invis];\\n\\\"SRGroup(2,3,2)\\\" -> \\\"SRGroup(2,3,1)\\\";\\n\\\"SRGroup(2,3,6\\)\\\" -> \\\"SRGroup(2,3,3)\\\";\\n\\\"SRGroup(2,3,6)\\\" -> \\\"SRGroup(2,3,4)\\\";\\n\\\"SRGro\\up(2,3,6)\\\" -> \\\"SRGroup(2,3,5)\\\";\\n\\\"SRGroup(2,3,7)\\\" -> \\\"SRGroup(2,3,2)\\\";\\\\n\\\"SRGroup(2,3,11)\\\" -> \\\"SRGroup(2,3,9)\\\";\\n\\\"SRGroup(2,3,11)\\\" -> \\\"SRGroup\\(2,3,10)\\\";\\n\\\"SRGroup(2,3,12)\\\" -> \\\"SRGroup(2,3,2)\\\";\\n\\\"SRGroup(2,3,12)\\\" -\\> \\\"SRGroup(2,3,6)\\\";\\n\\\"SRGroup(2,3,12)\\\" -> \\\"SRGroup(2,3,11)\\\";\\n\\\"SRGroup(\\2,3,13)\\\" -> \\\"SRGroup(2,3,6)\\\";\\n\\\"SRGroup(2,3,14)\\\" -> \\\"SRGroup(2,3,13)\\\";\\\\n\\\"SRGroup(2,3,15)\\\" -> \\\"SRGroup(2,3,7)\\\";\\n\\\"SRGroup(2,3,15)\\\" -> \\\"SRGroup\\(2,3,12)\\\";\\n\\\"SRGroup(2,3,15)\\\" -> \\\"SRGroup(2,3,14)\\\";\\n\\\"SRGroup(2,3,15)\\\" \\-> \\\"SRGroup(2,3,8)\\\";\\n}\\n\""
      ]
     },
     "execution_count": 2,
     "metadata": {
      "text/plain": ""
     },
     "output_type": "execute_result"
    }
   ],
   "source": [
    "dot := DotSubgroupLattice(2,3);"
   ]
  },
  {
   "cell_type": "code",
   "execution_count": 3,
   "id": "7a2a4536",
   "metadata": {},
   "outputs": [
    {
     "data": {
      "text/html": [
       "<div id='Z3JhcGg3MDE2'></div>        <script src=\"https://cdn.jsdelivr.net/npm/@hpcc-js/wasm/dist/graphviz.umd.js\"></script>        <script type=\"module\">            const dot = `digraph {\n",
       "{rank = same;8[shape=none];\n",
       "\"SRGroup(2,3,1)\"[color=\"0.33333333333333331 1.0 1.0\" shape=box];\n",
       "\"SRGroup(2,3,3)\"[color=\"0.66666666666666663 1.0 1.0\" shape=oval];\n",
       "\"SRGroup(2,3,4)\"[color=\"0.66666666666666663 1.0 1.0\" shape=oval];\n",
       "\"SRGroup(2,3,5)\"[color=\"0.66666666666666663 1.0 1.0\" shape=oval];\n",
       "}\n",
       "{rank = same;16[shape=none];\n",
       "\"SRGroup(2,3,2)\"[color=\"0.33333333333333331 1.0 1.0\" shape=oval];\n",
       "\"SRGroup(2,3,6)\"[color=\"0.66666666666666663 1.0 1.0\" shape=oval];\n",
       "\"SRGroup(2,3,9)\"[color=\"1. 1.0 1.0\" shape=oval];\n",
       "\"SRGroup(2,3,10)\"[color=\"1. 1.0 1.0\" shape=oval];\n",
       "}\n",
       "{rank = same;32[shape=none];\n",
       "\"SRGroup(2,3,11)\"[color=\"1. 1.0 1.0\" shape=oval];\n",
       "\"SRGroup(2,3,13)\"[color=\"1. 1.0 1.0\" shape=oval];\n",
       "}\n",
       "{rank = same;64[shape=none];\n",
       "\"SRGroup(2,3,7)\"[color=\"1. 1.0 1.0\" shape=oval];\n",
       "\"SRGroup(2,3,8)\"[color=\"1. 1.0 1.0\" shape=oval];\n",
       "\"SRGroup(2,3,12)\"[color=\"1. 1.0 1.0\" shape=oval];\n",
       "\"SRGroup(2,3,14)\"[color=\"1. 1.0 1.0\" shape=oval];\n",
       "}\n",
       "{rank = same;128[shape=none];\n",
       "\"SRGroup(2,3,15)\"[color=\"1. 1.0 1.0\" shape=oval];\n",
       "}\n",
       "16 -> 8[style=invis];\n",
       "32 -> 16[style=invis];\n",
       "64 -> 32[style=invis];\n",
       "128 -> 64[style=invis];\n",
       "\"SRGroup(2,3,2)\" -> \"SRGroup(2,3,1)\";\n",
       "\"SRGroup(2,3,6)\" -> \"SRGroup(2,3,3)\";\n",
       "\"SRGroup(2,3,6)\" -> \"SRGroup(2,3,4)\";\n",
       "\"SRGroup(2,3,6)\" -> \"SRGroup(2,3,5)\";\n",
       "\"SRGroup(2,3,7)\" -> \"SRGroup(2,3,2)\";\n",
       "\"SRGroup(2,3,11)\" -> \"SRGroup(2,3,9)\";\n",
       "\"SRGroup(2,3,11)\" -> \"SRGroup(2,3,10)\";\n",
       "\"SRGroup(2,3,12)\" -> \"SRGroup(2,3,2)\";\n",
       "\"SRGroup(2,3,12)\" -> \"SRGroup(2,3,6)\";\n",
       "\"SRGroup(2,3,12)\" -> \"SRGroup(2,3,11)\";\n",
       "\"SRGroup(2,3,13)\" -> \"SRGroup(2,3,6)\";\n",
       "\"SRGroup(2,3,14)\" -> \"SRGroup(2,3,13)\";\n",
       "\"SRGroup(2,3,15)\" -> \"SRGroup(2,3,7)\";\n",
       "\"SRGroup(2,3,15)\" -> \"SRGroup(2,3,12)\";\n",
       "\"SRGroup(2,3,15)\" -> \"SRGroup(2,3,14)\";\n",
       "\"SRGroup(2,3,15)\" -> \"SRGroup(2,3,8)\";\n",
       "}\n",
       "`;            import { Graphviz } from \"https://cdn.jsdelivr.net/npm/@hpcc-js/wasm/dist/index.js\";            if (Graphviz) {                const graphviz = await Graphviz.load();                const svg = graphviz.layout(dot, \"svg\", \"dot\");                document.getElementById(Z3JhcGg3MDE2).innerHTML = svg;            }        </script>"
      ]
     },
     "execution_count": 3,
     "metadata": {},
     "output_type": "execute_result"
    }
   ],
   "source": [
    "JupyterDot(dot);"
   ]
  },
  {
   "cell_type": "code",
   "execution_count": null,
   "id": "97e0df19",
   "metadata": {},
   "outputs": [],
   "source": []
  }
 ],
 "metadata": {
  "kernelspec": {
   "display_name": "GAP 4",
   "language": "gap",
   "name": "gap-4"
  },
  "language_info": {
   "codemirror_mode": "gap",
   "file_extension": ".g",
   "mimetype": "text/x-gap",
   "name": "GAP 4",
   "nbconvert_exporter": "",
   "pygments_lexer": "gap",
   "version": "4.12.1"
  }
 },
 "nbformat": 4,
 "nbformat_minor": 5
}
